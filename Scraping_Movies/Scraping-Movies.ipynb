{
 "cells": [
  {
   "cell_type": "code",
   "execution_count": 4,
   "metadata": {},
   "outputs": [],
   "source": [
    "import time\n",
    "import csv\n",
    "from selenium import webdriver\n",
    "from selenium.webdriver.common.by import By"
   ]
  },
  {
   "cell_type": "code",
   "execution_count": 2,
   "metadata": {},
   "outputs": [],
   "source": [
    "driver = webdriver.Chrome()\n",
    "driver.get(\"https://www.boxofficemojo.com/chart/top_lifetime_gross/?area=XWW\")"
   ]
  },
  {
   "cell_type": "code",
   "execution_count": 3,
   "metadata": {},
   "outputs": [],
   "source": [
    "\n",
    "def getting_movie_info():\n",
    "    movie_info = []\n",
    "\n",
    "    movie = driver.find_elements(\"xpath\",\"//td[@class='a-text-left mojo-field-type-title']/a[@class='a-link-normal']\")\n",
    "    lifetime_gross = driver.find_elements(\"xpath\",\"//td[@class='a-text-right mojo-field-type-money']\")\n",
    "    year = driver.find_elements(\"xpath\",\"//td[@class='a-text-left mojo-field-type-year']/a[@class='a-link-normal']\")\n",
    "\n",
    "\n",
    "    for movie,lifetime_gross,year in zip(movie,lifetime_gross,year):\n",
    "        movie = movie.text.strip() if movie.text.strip() else \"Empty\"\n",
    "        lifetime_gross = lifetime_gross.text.strip() if lifetime_gross.text.strip() else \"Empty\"\n",
    "        year = year.text.strip() if year.text.strip() else \"Empty\"\n",
    "\n",
    "        movie_info.append([movie,lifetime_gross,year])\n",
    "    return movie_info\n"
   ]
  },
  {
   "cell_type": "code",
   "execution_count": 6,
   "metadata": {},
   "outputs": [
    {
     "name": "stdout",
     "output_type": "stream",
     "text": [
      "Scraping completed and data saved to movie_data.csv\n"
     ]
    }
   ],
   "source": [
    "getting_movie = getting_movie_info()\n",
    "\n",
    "with open('movie_data.csv', mode='w', newline='', encoding='utf-8') as file:\n",
    "    writer = csv.writer(file)\n",
    "    writer.writerow(['movie', 'lifetime_gross','year'])  # Write the header row\n",
    "    writer.writerows(getting_movie)  # Write the book data\n",
    "\n",
    "\n",
    "driver.quit()\n",
    "\n",
    "print(\"Scraping completed and data saved to movie_data.csv\")"
   ]
  },
  {
   "cell_type": "code",
   "execution_count": 7,
   "metadata": {},
   "outputs": [],
   "source": []
  },
  {
   "cell_type": "code",
   "execution_count": null,
   "metadata": {},
   "outputs": [],
   "source": []
  },
  {
   "cell_type": "code",
   "execution_count": null,
   "metadata": {},
   "outputs": [],
   "source": []
  }
 ],
 "metadata": {
  "kernelspec": {
   "display_name": "Python 3",
   "language": "python",
   "name": "python3"
  },
  "language_info": {
   "codemirror_mode": {
    "name": "ipython",
    "version": 3
   },
   "file_extension": ".py",
   "mimetype": "text/x-python",
   "name": "python",
   "nbconvert_exporter": "python",
   "pygments_lexer": "ipython3",
   "version": "3.13.0"
  }
 },
 "nbformat": 4,
 "nbformat_minor": 2
}
