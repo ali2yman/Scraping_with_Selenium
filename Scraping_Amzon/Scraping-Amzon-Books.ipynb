{
 "cells": [
  {
   "cell_type": "code",
   "execution_count": 84,
   "metadata": {},
   "outputs": [],
   "source": [
    "import time\n",
    "import csv\n",
    "from selenium import webdriver \n",
    "from selenium.webdriver.common.by import By"
   ]
  },
  {
   "cell_type": "code",
   "execution_count": 85,
   "metadata": {},
   "outputs": [],
   "source": [
    "driver = webdriver.Chrome()\n",
    "driver.get('https://www.amazon.in/gp/bestsellers/books/')"
   ]
  },
  {
   "cell_type": "code",
   "execution_count": 86,
   "metadata": {},
   "outputs": [],
   "source": [
    "def scroll_to_bottom():\n",
    "    # execute_script  >>  This method executes JavaScript in the current window/frame (scrollHeight >> to scroll vertically to the bottom of the page) \n",
    "    driver.execute_script(\"window.scrollTo(0, document.body.scrollHeight);\")\n",
    "    time.sleep(5)   # sleep for 3 seconds waiting to load the page maybe any content appear\n",
    "\n",
    "\n",
    "def extract_books():\n",
    "    books = []\n",
    "\n",
    "    titles = driver.find_elements(\"xpath\", \"//a[@class='a-link-normal aok-block']/span/div\")\n",
    "    prices = driver.find_elements(\"xpath\", \"//span[@class='a-size-base a-color-price']/span\")\n",
    "\n",
    "    for title,price in zip(titles,prices):\n",
    "        book_title = title.text.strip() if title.text.strip() else \"Empty Title\"\n",
    "        book_price = price.text.strip() if price.text.strip() else \"Empty Price\"\n",
    "        books.append([book_title,book_price])\n",
    "\n",
    "    return books    \n",
    "\n",
    "\n",
    "# Function to go to the next page\n",
    "def go_to_next_page():\n",
    "    try:\n",
    "        # Find the \"next\" button and click it\n",
    "        next_button = driver.find_element(By.CSS_SELECTOR, \"li.a-last a\")  \n",
    "        next_button.click()\n",
    "        time.sleep(3)  # Wait for the new content to load\n",
    "    except Exception as e:\n",
    "        print(\"No more pages or error:\", e)\n",
    "        return False\n",
    "    return True"
   ]
  },
  {
   "cell_type": "code",
   "execution_count": 87,
   "metadata": {},
   "outputs": [
    {
     "name": "stdout",
     "output_type": "stream",
     "text": [
      "No more pages or error: Message: no such element: Unable to locate element: {\"method\":\"css selector\",\"selector\":\"li.a-last a\"}\n",
      "  (Session info: chrome=131.0.6778.205); For documentation on this error, please visit: https://www.selenium.dev/documentation/webdriver/troubleshooting/errors#no-such-element-exception\n",
      "Stacktrace:\n",
      "\tGetHandleVerifier [0x00007FF7FBECFB05+28789]\n",
      "\t(No symbol) [0x00007FF7FBE386E0]\n",
      "\t(No symbol) [0x00007FF7FBCD592A]\n",
      "\t(No symbol) [0x00007FF7FBD2930E]\n",
      "\t(No symbol) [0x00007FF7FBD295FC]\n",
      "\t(No symbol) [0x00007FF7FBD728A7]\n",
      "\t(No symbol) [0x00007FF7FBD4F47F]\n",
      "\t(No symbol) [0x00007FF7FBD6F654]\n",
      "\t(No symbol) [0x00007FF7FBD4F1E3]\n",
      "\t(No symbol) [0x00007FF7FBD1A938]\n",
      "\t(No symbol) [0x00007FF7FBD1BAA1]\n",
      "\tGetHandleVerifier [0x00007FF7FC20933D+3410093]\n",
      "\tGetHandleVerifier [0x00007FF7FC21E7DD+3497293]\n",
      "\tGetHandleVerifier [0x00007FF7FC212A73+3448803]\n",
      "\tGetHandleVerifier [0x00007FF7FBF97BBB+848171]\n",
      "\t(No symbol) [0x00007FF7FBE43C3F]\n",
      "\t(No symbol) [0x00007FF7FBE3F6E4]\n",
      "\t(No symbol) [0x00007FF7FBE3F87D]\n",
      "\t(No symbol) [0x00007FF7FBE2ED49]\n",
      "\tBaseThreadInitThunk [0x00007FFDF42EE8D7+23]\n",
      "\tRtlUserThreadStart [0x00007FFDF5DBFBCC+44]\n",
      "\n",
      "Scraping completed and data saved to books_data.csv\n"
     ]
    }
   ],
   "source": [
    "scroll_to_bottom()\n",
    "books_data = extract_books()\n",
    "\n",
    "\n",
    "while go_to_next_page():\n",
    "    scroll_to_bottom()\n",
    "    books_data.extend(extract_books())  # Add books from the current page to the list\n",
    "\n",
    "# Save the data to a CSV file\n",
    "with open('books_data.csv', mode='w', newline='', encoding='utf-8') as file:\n",
    "    writer = csv.writer(file)\n",
    "    writer.writerow(['Title', 'Price'])  # Write the header row\n",
    "    writer.writerows(books_data)  # Write the book data\n",
    "\n",
    "\n",
    "driver.quit()\n",
    "\n",
    "print(\"Scraping completed and data saved to books_data.csv\")"
   ]
  },
  {
   "cell_type": "code",
   "execution_count": null,
   "metadata": {},
   "outputs": [],
   "source": []
  },
  {
   "cell_type": "code",
   "execution_count": null,
   "metadata": {},
   "outputs": [],
   "source": []
  }
 ],
 "metadata": {
  "kernelspec": {
   "display_name": "Python 3",
   "language": "python",
   "name": "python3"
  },
  "language_info": {
   "codemirror_mode": {
    "name": "ipython",
    "version": 3
   },
   "file_extension": ".py",
   "mimetype": "text/x-python",
   "name": "python",
   "nbconvert_exporter": "python",
   "pygments_lexer": "ipython3",
   "version": "3.13.0"
  }
 },
 "nbformat": 4,
 "nbformat_minor": 2
}
